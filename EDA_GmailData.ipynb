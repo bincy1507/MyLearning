{
 "cells": [
  {
   "cell_type": "code",
   "execution_count": 2,
   "id": "ec273039-79f4-451e-96a9-700a74cf1fca",
   "metadata": {},
   "outputs": [],
   "source": [
    "import numpy as np\n",
    "import pandas as pd\n",
    "import matplotlib.pyplot as pl"
   ]
  },
  {
   "cell_type": "code",
   "execution_count": 3,
   "id": "ed93f755-d88a-46e8-b494-a42629a5c46d",
   "metadata": {},
   "outputs": [],
   "source": [
    "import mailbox"
   ]
  },
  {
   "cell_type": "code",
   "execution_count": 5,
   "id": "f8ae54ce-635c-41d9-bd86-0149a87053dd",
   "metadata": {},
   "outputs": [
    {
     "data": {
      "text/plain": [
       "<mailbox.mbox at 0x1d0960c3e90>"
      ]
     },
     "execution_count": 5,
     "metadata": {},
     "output_type": "execute_result"
    }
   ],
   "source": [
    "mboxfile = r\"C:\\Users\\bincy\\Downloads\\takeout-20240829T144231Z-001\\Takeout\\Mail\\All mail Including Spam and Trash.mbox\"\n",
    "mbox = mailbox.mbox(mboxfile)\n",
    "mbox"
   ]
  },
  {
   "cell_type": "code",
   "execution_count": 6,
   "id": "012dc785-faa3-47f4-b27a-bf4fa93fc284",
   "metadata": {},
   "outputs": [
    {
     "name": "stdout",
     "output_type": "stream",
     "text": [
      "X-GM-THRID\n",
      "X-Gmail-Labels\n",
      "Delivered-To\n",
      "Received\n",
      "X-Received\n",
      "ARC-Seal\n",
      "ARC-Message-Signature\n",
      "ARC-Authentication-Results\n",
      "Return-Path\n",
      "Received\n",
      "Received-SPF\n",
      "Authentication-Results\n",
      "DKIM-Signature\n",
      "X-Google-DKIM-Signature\n",
      "X-Gm-Message-State\n",
      "X-Google-Smtp-Source\n",
      "MIME-Version\n",
      "X-Received\n",
      "Date\n",
      "X-Notifications\n",
      "X-Notifications-Bounce-Info\n",
      "Message-ID\n",
      "Subject\n",
      "From\n",
      "To\n",
      "Content-Type\n"
     ]
    }
   ],
   "source": [
    "for key in mbox[0].keys():\n",
    "    print(key)"
   ]
  },
  {
   "cell_type": "code",
   "execution_count": 7,
   "id": "370bf409-167c-455e-ae02-5d137d8bbd11",
   "metadata": {},
   "outputs": [],
   "source": [
    "import csv"
   ]
  },
  {
   "cell_type": "code",
   "execution_count": 8,
   "id": "78b9c622-ffee-4192-b6bf-4a6cca1db5bd",
   "metadata": {},
   "outputs": [],
   "source": [
    "with open('mailbox.csv','w') as outputfile:\n",
    "    writer = csv.writer(outputfile)\n",
    "    writer.writerow(['subject','from','date','to','label','thread'])\n",
    "    for message in mbox:\n",
    "        writer.writerow([\n",
    "            message['subject'],\n",
    "            message['from'],\n",
    "            message['date'],\n",
    "            message['to'],\n",
    "            message['X-Gmail-Labels'],\n",
    "            message['X-GM-THRID']\n",
    "        ]\n",
    "            \n",
    "        )"
   ]
  },
  {
   "cell_type": "code",
   "execution_count": 9,
   "id": "65081f46-4903-4f2a-a3cc-034990df45c1",
   "metadata": {},
   "outputs": [],
   "source": [
    "dfs = pd.read_csv('mailbox.csv',names=['subject','from','date','to','label','thread'])"
   ]
  },
  {
   "cell_type": "code",
   "execution_count": 10,
   "id": "9051e889-e005-4049-8b2c-bfb8c5eec9a9",
   "metadata": {},
   "outputs": [
    {
     "data": {
      "text/plain": [
       "subject    object\n",
       "from       object\n",
       "date       object\n",
       "to         object\n",
       "label      object\n",
       "thread     object\n",
       "dtype: object"
      ]
     },
     "execution_count": 10,
     "metadata": {},
     "output_type": "execute_result"
    }
   ],
   "source": [
    "dfs.dtypes"
   ]
  },
  {
   "cell_type": "code",
   "execution_count": 11,
   "id": "20c81b93-8abf-4125-b2ef-cd357de568c7",
   "metadata": {},
   "outputs": [],
   "source": [
    "dfs['date'] = dfs['date'].apply(lambda x: pd.to_datetime(x, errors='coerce',utc=True))"
   ]
  },
  {
   "cell_type": "code",
   "execution_count": 12,
   "id": "62aa0aba-0c64-43c7-9f55-baac678dbe45",
   "metadata": {},
   "outputs": [
    {
     "data": {
      "text/plain": [
       "subject                 object\n",
       "from                    object\n",
       "date       datetime64[ns, UTC]\n",
       "to                      object\n",
       "label                   object\n",
       "thread                  object\n",
       "dtype: object"
      ]
     },
     "execution_count": 12,
     "metadata": {},
     "output_type": "execute_result"
    }
   ],
   "source": [
    "dfs.dtypes"
   ]
  },
  {
   "cell_type": "code",
   "execution_count": 14,
   "id": "dc0a0ca5-abcf-4d3b-bb92-2262a5d016b5",
   "metadata": {},
   "outputs": [],
   "source": [
    "dfs = dfs[dfs['date'].notna()]"
   ]
  },
  {
   "cell_type": "code",
   "execution_count": 15,
   "id": "82f9ddf3-eb8b-400f-a289-5cd8b8c2006d",
   "metadata": {},
   "outputs": [],
   "source": [
    "dfs.to_csv('gmail.csv')"
   ]
  },
  {
   "cell_type": "code",
   "execution_count": 16,
   "id": "6b37caeb-66ca-43e0-9710-bcfdc9ffb985",
   "metadata": {},
   "outputs": [
    {
     "name": "stdout",
     "output_type": "stream",
     "text": [
      "<class 'pandas.core.frame.DataFrame'>\n",
      "Index: 155 entries, 1 to 155\n",
      "Data columns (total 6 columns):\n",
      " #   Column   Non-Null Count  Dtype              \n",
      "---  ------   --------------  -----              \n",
      " 0   subject  154 non-null    object             \n",
      " 1   from     155 non-null    object             \n",
      " 2   date     155 non-null    datetime64[ns, UTC]\n",
      " 3   to       154 non-null    object             \n",
      " 4   label    155 non-null    object             \n",
      " 5   thread   155 non-null    object             \n",
      "dtypes: datetime64[ns, UTC](1), object(5)\n",
      "memory usage: 8.5+ KB\n"
     ]
    }
   ],
   "source": [
    "dfs.info()"
   ]
  },
  {
   "cell_type": "code",
   "execution_count": 17,
   "id": "3619f96e-4722-4696-a6af-90ded45cfece",
   "metadata": {},
   "outputs": [
    {
     "data": {
      "text/html": [
       "<div>\n",
       "<style scoped>\n",
       "    .dataframe tbody tr th:only-of-type {\n",
       "        vertical-align: middle;\n",
       "    }\n",
       "\n",
       "    .dataframe tbody tr th {\n",
       "        vertical-align: top;\n",
       "    }\n",
       "\n",
       "    .dataframe thead th {\n",
       "        text-align: right;\n",
       "    }\n",
       "</style>\n",
       "<table border=\"1\" class=\"dataframe\">\n",
       "  <thead>\n",
       "    <tr style=\"text-align: right;\">\n",
       "      <th></th>\n",
       "      <th>subject</th>\n",
       "      <th>from</th>\n",
       "      <th>date</th>\n",
       "      <th>to</th>\n",
       "      <th>label</th>\n",
       "      <th>thread</th>\n",
       "    </tr>\n",
       "  </thead>\n",
       "  <tbody>\n",
       "    <tr>\n",
       "      <th>1</th>\n",
       "      <td>New material: \"Predicate logics\"</td>\n",
       "      <td>\"Abha Sharma (Classroom)\" &lt;no-reply@classroom....</td>\n",
       "      <td>2024-08-28 05:32:48+00:00</td>\n",
       "      <td>bincy.24mas10004@vitbhopal.ac.in</td>\n",
       "      <td>Inbox,Important,Opened,Category Updates</td>\n",
       "      <td>1808608179451448758</td>\n",
       "    </tr>\n",
       "    <tr>\n",
       "      <th>2</th>\n",
       "      <td>Your Custom Reading Picks Are Ready.</td>\n",
       "      <td>GeeksforGeeks &lt;no-reply@geeksforgeeks.org&gt;</td>\n",
       "      <td>2024-08-15 05:04:03+00:00</td>\n",
       "      <td>bincy.24mas10004@vitbhopal.ac.in</td>\n",
       "      <td>Inbox,Important,Opened,Category Updates</td>\n",
       "      <td>1807428609746621869</td>\n",
       "    </tr>\n",
       "    <tr>\n",
       "      <th>3</th>\n",
       "      <td>23 MAS Batch part time &amp; 24 MAS Batch full tim...</td>\n",
       "      <td>\"Programme Chair - M. Tech AI and DS\" &lt;pc.mas@...</td>\n",
       "      <td>2024-08-12 08:35:40+00:00</td>\n",
       "      <td>swagatkumarsamantaray@vitbhopal.ac.in, saravan...</td>\n",
       "      <td>Inbox,Important,Opened,Category Forums</td>\n",
       "      <td>1807170145847332186</td>\n",
       "    </tr>\n",
       "    <tr>\n",
       "      <th>4</th>\n",
       "      <td>Fwd: Reminder: City, University of London Stud...</td>\n",
       "      <td>Assistant Director International Relations VIT...</td>\n",
       "      <td>2024-08-14 08:50:17+00:00</td>\n",
       "      <td>allstudents@vitbhopal.ac.in, allfaculty@vitbho...</td>\n",
       "      <td>Inbox,Important,Opened,Category Forums</td>\n",
       "      <td>1807352268993026168</td>\n",
       "    </tr>\n",
       "    <tr>\n",
       "      <th>5</th>\n",
       "      <td>Generative AI: The Career Move You Need</td>\n",
       "      <td>\"Analytics Vidhya\" &lt;info@newsletters.analytics...</td>\n",
       "      <td>2024-08-11 05:23:30+00:00</td>\n",
       "      <td>bincy.24mas10004@vitbhopal.ac.in</td>\n",
       "      <td>Inbox,Important,Opened,Category Updates</td>\n",
       "      <td>1807067449487018886</td>\n",
       "    </tr>\n",
       "    <tr>\n",
       "      <th>6</th>\n",
       "      <td>FFCS Course Registration (2024_Freshers)_Certa...</td>\n",
       "      <td>FFCS and Timetable Coordinator &lt;ffcs.timetable...</td>\n",
       "      <td>2024-08-15 19:14:34+00:00</td>\n",
       "      <td>allstudents2024@vitbhopal.ac.in</td>\n",
       "      <td>Inbox,Important,Opened,Category Forums</td>\n",
       "      <td>1807482162524875877</td>\n",
       "    </tr>\n",
       "    <tr>\n",
       "      <th>7</th>\n",
       "      <td>PAT Webinar</td>\n",
       "      <td>Assistant Dean First year &lt;ad.fy@vitbhopal.ac.in&gt;</td>\n",
       "      <td>2024-08-11 10:21:10+00:00</td>\n",
       "      <td>allstudents2024@vitbhopal.ac.in</td>\n",
       "      <td>Inbox,Important,Opened,Category Forums</td>\n",
       "      <td>1807086198920830988</td>\n",
       "    </tr>\n",
       "    <tr>\n",
       "      <th>8</th>\n",
       "      <td>Your New IEEE Account</td>\n",
       "      <td>IEEE Confirmation &lt;hello@em3009.ieee.org&gt;</td>\n",
       "      <td>2024-08-08 18:26:46+00:00</td>\n",
       "      <td>bincy.24mas10004@vitbhopal.ac.in</td>\n",
       "      <td>Inbox,Important,Opened,Category Updates</td>\n",
       "      <td>1806844933354978473</td>\n",
       "    </tr>\n",
       "    <tr>\n",
       "      <th>9</th>\n",
       "      <td>=?UTF-8?Q?New_announcement=3A_=22Please_carry_...</td>\n",
       "      <td>\"Abhishek Kumar Shukla (Classroom)\" &lt;no-reply@...</td>\n",
       "      <td>2024-08-06 08:17:58+00:00</td>\n",
       "      <td>bincy.24mas10004@vitbhopal.ac.in</td>\n",
       "      <td>Inbox,Important,Opened,Category Updates</td>\n",
       "      <td>1806625437288831950</td>\n",
       "    </tr>\n",
       "    <tr>\n",
       "      <th>10</th>\n",
       "      <td>=?UTF-8?Q?Haven=E2=80=99t_decided_yet,_BINCY=3F?=</td>\n",
       "      <td>IEEE Membership &lt;ieee-membership@deliver.ieee....</td>\n",
       "      <td>2024-08-26 20:01:09+00:00</td>\n",
       "      <td>bincy.24mas10004@vitbhopal.ac.in</td>\n",
       "      <td>Inbox,Important,Opened,Category Updates</td>\n",
       "      <td>1808481630188248383</td>\n",
       "    </tr>\n",
       "  </tbody>\n",
       "</table>\n",
       "</div>"
      ],
      "text/plain": [
       "                                              subject  \\\n",
       "1                    New material: \"Predicate logics\"   \n",
       "2                Your Custom Reading Picks Are Ready.   \n",
       "3   23 MAS Batch part time & 24 MAS Batch full tim...   \n",
       "4   Fwd: Reminder: City, University of London Stud...   \n",
       "5             Generative AI: The Career Move You Need   \n",
       "6   FFCS Course Registration (2024_Freshers)_Certa...   \n",
       "7                                         PAT Webinar   \n",
       "8                               Your New IEEE Account   \n",
       "9   =?UTF-8?Q?New_announcement=3A_=22Please_carry_...   \n",
       "10  =?UTF-8?Q?Haven=E2=80=99t_decided_yet,_BINCY=3F?=   \n",
       "\n",
       "                                                 from  \\\n",
       "1   \"Abha Sharma (Classroom)\" <no-reply@classroom....   \n",
       "2          GeeksforGeeks <no-reply@geeksforgeeks.org>   \n",
       "3   \"Programme Chair - M. Tech AI and DS\" <pc.mas@...   \n",
       "4   Assistant Director International Relations VIT...   \n",
       "5   \"Analytics Vidhya\" <info@newsletters.analytics...   \n",
       "6   FFCS and Timetable Coordinator <ffcs.timetable...   \n",
       "7   Assistant Dean First year <ad.fy@vitbhopal.ac.in>   \n",
       "8           IEEE Confirmation <hello@em3009.ieee.org>   \n",
       "9   \"Abhishek Kumar Shukla (Classroom)\" <no-reply@...   \n",
       "10  IEEE Membership <ieee-membership@deliver.ieee....   \n",
       "\n",
       "                        date  \\\n",
       "1  2024-08-28 05:32:48+00:00   \n",
       "2  2024-08-15 05:04:03+00:00   \n",
       "3  2024-08-12 08:35:40+00:00   \n",
       "4  2024-08-14 08:50:17+00:00   \n",
       "5  2024-08-11 05:23:30+00:00   \n",
       "6  2024-08-15 19:14:34+00:00   \n",
       "7  2024-08-11 10:21:10+00:00   \n",
       "8  2024-08-08 18:26:46+00:00   \n",
       "9  2024-08-06 08:17:58+00:00   \n",
       "10 2024-08-26 20:01:09+00:00   \n",
       "\n",
       "                                                   to  \\\n",
       "1                    bincy.24mas10004@vitbhopal.ac.in   \n",
       "2                    bincy.24mas10004@vitbhopal.ac.in   \n",
       "3   swagatkumarsamantaray@vitbhopal.ac.in, saravan...   \n",
       "4   allstudents@vitbhopal.ac.in, allfaculty@vitbho...   \n",
       "5                    bincy.24mas10004@vitbhopal.ac.in   \n",
       "6                     allstudents2024@vitbhopal.ac.in   \n",
       "7                     allstudents2024@vitbhopal.ac.in   \n",
       "8                    bincy.24mas10004@vitbhopal.ac.in   \n",
       "9                    bincy.24mas10004@vitbhopal.ac.in   \n",
       "10                   bincy.24mas10004@vitbhopal.ac.in   \n",
       "\n",
       "                                      label               thread  \n",
       "1   Inbox,Important,Opened,Category Updates  1808608179451448758  \n",
       "2   Inbox,Important,Opened,Category Updates  1807428609746621869  \n",
       "3    Inbox,Important,Opened,Category Forums  1807170145847332186  \n",
       "4    Inbox,Important,Opened,Category Forums  1807352268993026168  \n",
       "5   Inbox,Important,Opened,Category Updates  1807067449487018886  \n",
       "6    Inbox,Important,Opened,Category Forums  1807482162524875877  \n",
       "7    Inbox,Important,Opened,Category Forums  1807086198920830988  \n",
       "8   Inbox,Important,Opened,Category Updates  1806844933354978473  \n",
       "9   Inbox,Important,Opened,Category Updates  1806625437288831950  \n",
       "10  Inbox,Important,Opened,Category Updates  1808481630188248383  "
      ]
     },
     "execution_count": 17,
     "metadata": {},
     "output_type": "execute_result"
    }
   ],
   "source": [
    "dfs.head(10)"
   ]
  },
  {
   "cell_type": "code",
   "execution_count": 18,
   "id": "68f89734-b902-45be-9f3f-90f5ee3e1406",
   "metadata": {},
   "outputs": [],
   "source": [
    "import re"
   ]
  },
  {
   "cell_type": "code",
   "execution_count": 19,
   "id": "a9fa653a-d8b4-4163-9dc7-5ca5088d8149",
   "metadata": {},
   "outputs": [],
   "source": [
    "def extract_email_ID(string):\n",
    "    email = re.findall(r'<(.+?)>',string)\n",
    "    if not email:\n",
    "        email = list(filter(lambda y: '@' in y, string.split()))\n",
    "    return email[0] if email else np.nan"
   ]
  },
  {
   "cell_type": "code",
   "execution_count": 20,
   "id": "0b093699-acc5-424e-85e8-a02e553e6359",
   "metadata": {},
   "outputs": [],
   "source": [
    "dfs['from'] = dfs['from'].apply(lambda x: extract_email_ID(x))"
   ]
  },
  {
   "cell_type": "code",
   "execution_count": 21,
   "id": "3053b262-88f3-4aa9-b4b1-98e7e3a7152e",
   "metadata": {},
   "outputs": [],
   "source": [
    "myemail = 'bincy.24mas10004@vitbhopal.ac.in'\n",
    "dfs['label'] = dfs['from'].apply(lambda x: 'sent' if x==myemail else 'inbox')"
   ]
  },
  {
   "cell_type": "code",
   "execution_count": 22,
   "id": "e1441d74-5ff0-416b-ab5b-af6527bfb574",
   "metadata": {},
   "outputs": [],
   "source": [
    "dfs.drop(columns='to', inplace=True)"
   ]
  },
  {
   "cell_type": "code",
   "execution_count": 23,
   "id": "37aaaa0a-4a23-41f4-96a2-96b67df5535f",
   "metadata": {},
   "outputs": [
    {
     "data": {
      "text/html": [
       "<div>\n",
       "<style scoped>\n",
       "    .dataframe tbody tr th:only-of-type {\n",
       "        vertical-align: middle;\n",
       "    }\n",
       "\n",
       "    .dataframe tbody tr th {\n",
       "        vertical-align: top;\n",
       "    }\n",
       "\n",
       "    .dataframe thead th {\n",
       "        text-align: right;\n",
       "    }\n",
       "</style>\n",
       "<table border=\"1\" class=\"dataframe\">\n",
       "  <thead>\n",
       "    <tr style=\"text-align: right;\">\n",
       "      <th></th>\n",
       "      <th>subject</th>\n",
       "      <th>from</th>\n",
       "      <th>date</th>\n",
       "      <th>label</th>\n",
       "      <th>thread</th>\n",
       "    </tr>\n",
       "  </thead>\n",
       "  <tbody>\n",
       "    <tr>\n",
       "      <th>1</th>\n",
       "      <td>New material: \"Predicate logics\"</td>\n",
       "      <td>no-reply@classroom.google.com</td>\n",
       "      <td>2024-08-28 05:32:48+00:00</td>\n",
       "      <td>inbox</td>\n",
       "      <td>1808608179451448758</td>\n",
       "    </tr>\n",
       "    <tr>\n",
       "      <th>2</th>\n",
       "      <td>Your Custom Reading Picks Are Ready.</td>\n",
       "      <td>no-reply@geeksforgeeks.org</td>\n",
       "      <td>2024-08-15 05:04:03+00:00</td>\n",
       "      <td>inbox</td>\n",
       "      <td>1807428609746621869</td>\n",
       "    </tr>\n",
       "    <tr>\n",
       "      <th>3</th>\n",
       "      <td>23 MAS Batch part time &amp; 24 MAS Batch full tim...</td>\n",
       "      <td>pc.mas@vitbhopal.ac.in</td>\n",
       "      <td>2024-08-12 08:35:40+00:00</td>\n",
       "      <td>inbox</td>\n",
       "      <td>1807170145847332186</td>\n",
       "    </tr>\n",
       "    <tr>\n",
       "      <th>4</th>\n",
       "      <td>Fwd: Reminder: City, University of London Stud...</td>\n",
       "      <td>ad.ir2@vitbhopal.ac.in</td>\n",
       "      <td>2024-08-14 08:50:17+00:00</td>\n",
       "      <td>inbox</td>\n",
       "      <td>1807352268993026168</td>\n",
       "    </tr>\n",
       "    <tr>\n",
       "      <th>5</th>\n",
       "      <td>Generative AI: The Career Move You Need</td>\n",
       "      <td>info@newsletters.analyticsvidhya.com</td>\n",
       "      <td>2024-08-11 05:23:30+00:00</td>\n",
       "      <td>inbox</td>\n",
       "      <td>1807067449487018886</td>\n",
       "    </tr>\n",
       "    <tr>\n",
       "      <th>6</th>\n",
       "      <td>FFCS Course Registration (2024_Freshers)_Certa...</td>\n",
       "      <td>ffcs.timetable@vitbhopal.ac.in</td>\n",
       "      <td>2024-08-15 19:14:34+00:00</td>\n",
       "      <td>inbox</td>\n",
       "      <td>1807482162524875877</td>\n",
       "    </tr>\n",
       "    <tr>\n",
       "      <th>7</th>\n",
       "      <td>PAT Webinar</td>\n",
       "      <td>ad.fy@vitbhopal.ac.in</td>\n",
       "      <td>2024-08-11 10:21:10+00:00</td>\n",
       "      <td>inbox</td>\n",
       "      <td>1807086198920830988</td>\n",
       "    </tr>\n",
       "    <tr>\n",
       "      <th>8</th>\n",
       "      <td>Your New IEEE Account</td>\n",
       "      <td>hello@em3009.ieee.org</td>\n",
       "      <td>2024-08-08 18:26:46+00:00</td>\n",
       "      <td>inbox</td>\n",
       "      <td>1806844933354978473</td>\n",
       "    </tr>\n",
       "    <tr>\n",
       "      <th>9</th>\n",
       "      <td>=?UTF-8?Q?New_announcement=3A_=22Please_carry_...</td>\n",
       "      <td>no-reply@classroom.google.com</td>\n",
       "      <td>2024-08-06 08:17:58+00:00</td>\n",
       "      <td>inbox</td>\n",
       "      <td>1806625437288831950</td>\n",
       "    </tr>\n",
       "    <tr>\n",
       "      <th>10</th>\n",
       "      <td>=?UTF-8?Q?Haven=E2=80=99t_decided_yet,_BINCY=3F?=</td>\n",
       "      <td>ieee-membership@deliver.ieee.org</td>\n",
       "      <td>2024-08-26 20:01:09+00:00</td>\n",
       "      <td>inbox</td>\n",
       "      <td>1808481630188248383</td>\n",
       "    </tr>\n",
       "  </tbody>\n",
       "</table>\n",
       "</div>"
      ],
      "text/plain": [
       "                                              subject  \\\n",
       "1                    New material: \"Predicate logics\"   \n",
       "2                Your Custom Reading Picks Are Ready.   \n",
       "3   23 MAS Batch part time & 24 MAS Batch full tim...   \n",
       "4   Fwd: Reminder: City, University of London Stud...   \n",
       "5             Generative AI: The Career Move You Need   \n",
       "6   FFCS Course Registration (2024_Freshers)_Certa...   \n",
       "7                                         PAT Webinar   \n",
       "8                               Your New IEEE Account   \n",
       "9   =?UTF-8?Q?New_announcement=3A_=22Please_carry_...   \n",
       "10  =?UTF-8?Q?Haven=E2=80=99t_decided_yet,_BINCY=3F?=   \n",
       "\n",
       "                                    from                      date  label  \\\n",
       "1          no-reply@classroom.google.com 2024-08-28 05:32:48+00:00  inbox   \n",
       "2             no-reply@geeksforgeeks.org 2024-08-15 05:04:03+00:00  inbox   \n",
       "3                 pc.mas@vitbhopal.ac.in 2024-08-12 08:35:40+00:00  inbox   \n",
       "4                 ad.ir2@vitbhopal.ac.in 2024-08-14 08:50:17+00:00  inbox   \n",
       "5   info@newsletters.analyticsvidhya.com 2024-08-11 05:23:30+00:00  inbox   \n",
       "6         ffcs.timetable@vitbhopal.ac.in 2024-08-15 19:14:34+00:00  inbox   \n",
       "7                  ad.fy@vitbhopal.ac.in 2024-08-11 10:21:10+00:00  inbox   \n",
       "8                  hello@em3009.ieee.org 2024-08-08 18:26:46+00:00  inbox   \n",
       "9          no-reply@classroom.google.com 2024-08-06 08:17:58+00:00  inbox   \n",
       "10      ieee-membership@deliver.ieee.org 2024-08-26 20:01:09+00:00  inbox   \n",
       "\n",
       "                 thread  \n",
       "1   1808608179451448758  \n",
       "2   1807428609746621869  \n",
       "3   1807170145847332186  \n",
       "4   1807352268993026168  \n",
       "5   1807067449487018886  \n",
       "6   1807482162524875877  \n",
       "7   1807086198920830988  \n",
       "8   1806844933354978473  \n",
       "9   1806625437288831950  \n",
       "10  1808481630188248383  "
      ]
     },
     "execution_count": 23,
     "metadata": {},
     "output_type": "execute_result"
    }
   ],
   "source": [
    "dfs.head(10)"
   ]
  },
  {
   "cell_type": "code",
   "execution_count": 24,
   "id": "a3b4ef0b-4b7d-484a-87b3-8306ff8e6ad2",
   "metadata": {},
   "outputs": [],
   "source": [
    "import datetime\n",
    "import pytz\n",
    "def refactor_timezone(x):\n",
    "    est = pytz.timezone('US/Eastern')\n",
    "    return x.astimezone(est)"
   ]
  },
  {
   "cell_type": "code",
   "execution_count": 25,
   "id": "a5e954ea-e490-4daa-876b-7010879cb881",
   "metadata": {},
   "outputs": [],
   "source": [
    "dfs['date'] = dfs['date'].apply(lambda x: refactor_timezone(x))"
   ]
  },
  {
   "cell_type": "code",
   "execution_count": 27,
   "id": "50a0974c-aac7-429b-bb7d-870912b8558e",
   "metadata": {},
   "outputs": [],
   "source": [
    "dfs['dayofweek'] = dfs['date'].apply(lambda x: x.day_name)\n",
    "dfs['dayofweek'] = pd.Categorical(dfs['dayofweek'], categories = [\n",
    "    'Monday','Tuesday','Wednesday','Thursday','Friday','Saturday','Sunday'], ordered=True)"
   ]
  },
  {
   "cell_type": "code",
   "execution_count": 28,
   "id": "92153942-972b-4a4d-ba68-21bf30fbb087",
   "metadata": {},
   "outputs": [],
   "source": [
    "dfs['timeofday'] = dfs['date'].apply(lambda x: x.hour + x.minute/60\n",
    "+ x.second/3600)"
   ]
  },
  {
   "cell_type": "code",
   "execution_count": 29,
   "id": "c5e396ef-2422-438f-8e5c-87a3c73a6e3e",
   "metadata": {},
   "outputs": [],
   "source": [
    "dfs['hour'] = dfs['date'].apply(lambda x: x.hour)"
   ]
  },
  {
   "cell_type": "code",
   "execution_count": 31,
   "id": "2a1476fc-e3b5-4aa6-9732-250ff49edd10",
   "metadata": {},
   "outputs": [],
   "source": [
    "dfs['year_int'] = dfs['date'].apply(lambda x: x.year)"
   ]
  },
  {
   "cell_type": "code",
   "execution_count": 32,
   "id": "74a4bdeb-0461-44f9-a469-93593c7a6ae3",
   "metadata": {},
   "outputs": [],
   "source": [
    "dfs['year'] = dfs['date'].apply(lambda x: x.year +\n",
    "x.dayofyear/365.25)"
   ]
  },
  {
   "cell_type": "code",
   "execution_count": 33,
   "id": "e1a9adb6-dbc7-4ce6-8ab6-a205c0507933",
   "metadata": {},
   "outputs": [],
   "source": [
    "dfs.index = dfs['date']\n",
    "del dfs['date']"
   ]
  },
  {
   "cell_type": "code",
   "execution_count": 34,
   "id": "17a258ad-110f-477e-950e-5bccf98d7160",
   "metadata": {},
   "outputs": [
    {
     "name": "stdout",
     "output_type": "stream",
     "text": [
      "Mon, 24 Jun 2024 06:12 AM\n",
      "Thu, 29 Aug 2024 06:40 AM\n",
      "label\n",
      "inbox    141\n",
      "sent      14\n",
      "Name: count, dtype: int64\n"
     ]
    }
   ],
   "source": [
    "print(dfs.index.min().strftime('%a, %d %b %Y %I:%M %p'))\n",
    "print(dfs.index.max().strftime('%a, %d %b %Y %I:%M %p'))\n",
    "print(dfs['label'].value_counts())"
   ]
  },
  {
   "cell_type": "code",
   "execution_count": null,
   "id": "c6993e2d-3bb5-4b4d-8fc5-1010eff8a461",
   "metadata": {},
   "outputs": [],
   "source": []
  }
 ],
 "metadata": {
  "kernelspec": {
   "display_name": "Python 3 (ipykernel)",
   "language": "python",
   "name": "python3"
  },
  "language_info": {
   "codemirror_mode": {
    "name": "ipython",
    "version": 3
   },
   "file_extension": ".py",
   "mimetype": "text/x-python",
   "name": "python",
   "nbconvert_exporter": "python",
   "pygments_lexer": "ipython3",
   "version": "3.12.4"
  }
 },
 "nbformat": 4,
 "nbformat_minor": 5
}
